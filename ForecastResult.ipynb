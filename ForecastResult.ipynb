{
 "cells": [
  {
   "cell_type": "code",
   "execution_count": 2,
   "metadata": {},
   "outputs": [],
   "source": [
    "%%capture\n",
    "%pip install awswrangler"
   ]
  },
  {
   "cell_type": "code",
   "execution_count": 3,
   "metadata": {},
   "outputs": [
    {
     "name": "stdout",
     "output_type": "stream",
     "text": [
      "                   date       p50  dayofweek\n",
      "89  2020-10-26 08:00:00  0.249328          0\n",
      "113 2020-10-27 08:00:00  0.228981          1\n",
      "137 2020-10-28 08:00:00  0.197706          2\n",
      "161 2020-10-29 08:00:00  0.165558          3\n",
      "17  2020-10-23 08:00:00  0.135449          4\n",
      "41  2020-10-24 08:00:00  0.182038          5\n",
      "75  2020-10-25 18:00:00  0.122888          6\n",
      "                  date       p50  dayofweek\n",
      "24 2020-10-22 19:00:00  0.017628          3\n",
      "22 2020-10-23 17:00:00  0.018364          4\n"
     ]
    }
   ],
   "source": [
    "import boto3\n",
    "import pandas as pd\n",
    "import awswrangler as wr\n",
    "from datetime import timedelta, timezone, datetime\n",
    "\n",
    "models = ['schedule', 'retry1']\n",
    "timetoday = datetime.now(timezone.utc).strftime('%Y-%m-%d')\n",
    "bucket_name = 'sagemaker-us-east-1-123456'\n",
    "\n",
    "def load_pred(model):\n",
    "    prefix = 'forecast_output/' + model \n",
    "    path = f's3://{bucket_name}/{prefix}'   \n",
    "    suffix = 'part0.csv'    \n",
    "    df = wr.s3.read_csv(path=path, path_suffix=suffix, last_modified_begin=datetime.now(timezone.utc)-timedelta(hours=24))\n",
    "    return df\n",
    "    \n",
    "def transform(df):\n",
    "    df = df.drop(['item_id', 'p10', 'p90'], axis=1)\n",
    "    df['date'] = pd.to_datetime(df['date'], format=\"%Y-%m-%dT%H:%M:%SZ\")\n",
    "    df['date'] = df['date']+timedelta(hours=8)\n",
    "    return df\n",
    "    \n",
    "def put_time(model, dayofweek, best_time, dynamodb=None):\n",
    "    if not dynamodb:\n",
    "        dynamodb = boto3.resource('dynamodb')\n",
    "\n",
    "    table = dynamodb.Table('BestBillTime')\n",
    "    response = table.put_item(\n",
    "       Item={\n",
    "            'mt_category': model,\n",
    "            'day_of_week': dayofweek,\n",
    "            'best_time': str(best_time)\n",
    "        }\n",
    "    )\n",
    "    return response\n",
    "\n",
    "for model in models:\n",
    "    df = load_pred(model)\n",
    "    df = transform(df)\n",
    "    dayofweek=['Mon', 'Tue', 'Wed', 'Thu', 'Fri', 'Sat', 'Sun']\n",
    "    df['dayofweek'] = df.date.dt.dayofweek\n",
    "    best_idxs = df.groupby('dayofweek')['p50'].idxmax()\n",
    "    print(df.iloc[best_idxs]) "
   ]
  },
  {
   "cell_type": "code",
   "execution_count": null,
   "metadata": {},
   "outputs": [],
   "source": []
  }
 ],
 "metadata": {
  "kernelspec": {
   "display_name": "Python [conda env:root] *",
   "language": "python",
   "name": "conda-root-py"
  },
  "language_info": {
   "codemirror_mode": {
    "name": "ipython",
    "version": 3
   },
   "file_extension": ".py",
   "mimetype": "text/x-python",
   "name": "python",
   "nbconvert_exporter": "python",
   "pygments_lexer": "ipython3",
   "version": "3.8.5"
  }
 },
 "nbformat": 4,
 "nbformat_minor": 4
}
