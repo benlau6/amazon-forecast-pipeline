{
 "cells": [
  {
   "cell_type": "markdown",
   "metadata": {},
   "source": [
    "## Clean Up"
   ]
  },
  {
   "cell_type": "code",
   "execution_count": 17,
   "metadata": {},
   "outputs": [],
   "source": [
    "import boto3\n",
    "import util\n",
    "import sagemaker\n",
    "bucket_name = sagemaker.Session().default_bucket()\n",
    "region = sagemaker.Session().boto_region_name\n",
    "session = boto3.Session(region_name=region) \n",
    "forecast = session.client(service_name='forecast') \n",
    "forecastquery = session.client(service_name='forecastquery')"
   ]
  },
  {
   "cell_type": "code",
   "execution_count": 18,
   "metadata": {},
   "outputs": [],
   "source": [
    "forecastExportJobArn = 'arn:aws:forecast:us-east-1:344055016255:forecast-export-job/bill_scs_rate_schedule_forecast/bill_scs_rate_schedule_forecast_export'\n",
    "forecastArn = 'arn:aws:forecast:us-east-1:344055016255:forecast/bill_success_rate_schedule_deepAR_forecast'\n",
    "predictorArn = 'arn:aws:forecast:us-east-1:344055016255:predictor/bill_success_rate_schedule_deepAR'\n",
    "ds_import_job_arn = 'arn:aws:forecast:us-east-1:344055016255:dataset-import-job/bill_success_rate_schedule_ds/EP_DSIMPORT_JOB_TARGET'\n",
    "datasetArn = 'arn:aws:forecast:us-east-1:344055016255:dataset/bill_success_rate_schedule_ds'\n",
    "datasetGroupArn = 'arn:aws:forecast:us-east-1:344055016255:dataset-group/bill_success_rate_schedule_gp'"
   ]
  },
  {
   "cell_type": "code",
   "execution_count": 19,
   "metadata": {},
   "outputs": [
    {
     "name": "stdout",
     "output_type": "stream",
     "text": [
      "Successful delete\n"
     ]
    }
   ],
   "source": [
    "#util.wait_till_delete(lambda: forecast.delete_forecast_export_job(ForecastExportJobArn = forecastExportJobArn))\n",
    "#util.wait_till_delete(lambda: forecast.delete_forecast(ForecastArn = forecastArn))\n",
    "#util.wait_till_delete(lambda: forecast.delete_predictor(PredictorArn = predictorArn))\n",
    "#util.wait_till_delete(lambda: forecast.delete_dataset_import_job(DatasetImportJobArn=ds_import_job_arn))\n",
    "#util.wait_till_delete(lambda: forecast.delete_dataset(DatasetArn=datasetArn))\n",
    "#util.wait_till_delete(lambda: forecast.delete_dataset_group(DatasetGroupArn=datasetGroupArn))"
   ]
  },
  {
   "cell_type": "code",
   "execution_count": null,
   "metadata": {},
   "outputs": [],
   "source": []
  }
 ],
 "metadata": {
  "kernelspec": {
   "display_name": "Python [conda env:root] *",
   "language": "python",
   "name": "conda-root-py"
  },
  "language_info": {
   "codemirror_mode": {
    "name": "ipython",
    "version": 3
   },
   "file_extension": ".py",
   "mimetype": "text/x-python",
   "name": "python",
   "nbconvert_exporter": "python",
   "pygments_lexer": "ipython3",
   "version": "3.8.5"
  }
 },
 "nbformat": 4,
 "nbformat_minor": 4
}
