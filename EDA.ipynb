{
 "cells": [
  {
   "cell_type": "markdown",
   "metadata": {},
   "source": [
    "## Setup<a class=\"anchor\" id=\"setup\"></a>"
   ]
  },
  {
   "cell_type": "code",
   "execution_count": 2,
   "metadata": {},
   "outputs": [],
   "source": [
    "%%capture\n",
    "%pip install awswrangler"
   ]
  },
  {
   "cell_type": "code",
   "execution_count": 1,
   "metadata": {},
   "outputs": [],
   "source": [
    "import os\n",
    "import time\n",
    "import boto3\n",
    "import util\n",
    "import sagemaker\n",
    "import awswrangler as wr\n",
    "import pandas as pd\n",
    "import seaborn as sns\n",
    "import numpy as np\n",
    "import matplotlib.pyplot as plt\n",
    "from datetime import datetime, timedelta"
   ]
  },
  {
   "cell_type": "markdown",
   "metadata": {},
   "source": [
    "# Data preparation"
   ]
  },
  {
   "cell_type": "code",
   "execution_count": 2,
   "metadata": {},
   "outputs": [],
   "source": [
    "def loadRaw():\n",
    "    bucket = ''\n",
    "    path = ''\n",
    "    bucket_uri = f's3://{bucket}/{path}'\n",
    "    data_suffix = '.gz.parquet'\n",
    "    cols = ['mt_sent_time', 'mt_category', 'operator', 'shortcode', 'mt_count', 'dn_count']\n",
    "    df = wr.s3.read_parquet(path=bucket_uri, path_suffix=data_suffix, columns=cols, dataset=True)\n",
    "    return df"
   ]
  },
  {
   "cell_type": "code",
   "execution_count": 3,
   "metadata": {},
   "outputs": [],
   "source": [
    "raw = loadRaw()"
   ]
  },
  {
   "cell_type": "code",
   "execution_count": null,
   "metadata": {},
   "outputs": [],
   "source": [
    "raw.tail()"
   ]
  },
  {
   "cell_type": "markdown",
   "metadata": {},
   "source": [
    "# EDA\n"
   ]
  },
  {
   "cell_type": "code",
   "execution_count": null,
   "metadata": {},
   "outputs": [],
   "source": [
    "raw.describe().apply(lambda s: s.apply(lambda x: format(x, 'g')))"
   ]
  },
  {
   "cell_type": "code",
   "execution_count": null,
   "metadata": {},
   "outputs": [],
   "source": [
    "raw.info()"
   ]
  },
  {
   "cell_type": "code",
   "execution_count": null,
   "metadata": {},
   "outputs": [],
   "source": [
    "for col in raw.columns:\n",
    "    print(col, raw[col].nunique())"
   ]
  },
  {
   "cell_type": "code",
   "execution_count": null,
   "metadata": {},
   "outputs": [],
   "source": [
    "for col in raw.columns:\n",
    "    print(col, raw[col].unique(), '\\n')"
   ]
  },
  {
   "cell_type": "code",
   "execution_count": null,
   "metadata": {},
   "outputs": [],
   "source": [
    "cols = ['mt_category', 'operator', 'shortcode']\n",
    "for col in cols:\n",
    "    print(raw[col].value_counts())"
   ]
  },
  {
   "cell_type": "markdown",
   "metadata": {},
   "source": [
    "# Data preprocessing"
   ]
  },
  {
   "cell_type": "code",
   "execution_count": 12,
   "metadata": {},
   "outputs": [],
   "source": [
    "def featureEngineering(raw, *args):\n",
    "    # args = groupby list\n",
    "    \n",
    "    df = raw.copy()\n",
    "    # Only these 2 categories are needed)\n",
    "    mt_cat_list = ['schedule', 'retry1']\n",
    "    df = df[df.mt_category.isin(mt_cat_list)]\n",
    "    \n",
    "    # Convert date/time from string to datetime format\n",
    "    df['mt_sent_time'] = pd.to_datetime(df['mt_sent_time'], errors='coerce').dt.floor('H')\n",
    "    \n",
    "    # Group entries\n",
    "    df = df.groupby(['mt_category', 'mt_sent_time', *args]).agg({'mt_count':'sum', 'dn_count':'sum'}).reset_index()\n",
    "    # add scs_date\n",
    "    df['scs_dn_rate'] = df.dn_count / df.mt_count\n",
    "    \n",
    "    # add columns describing different time frame\n",
    "    df['mt_sent_time_hour'] = df['mt_sent_time'].dt.hour\n",
    "    df['mt_sent_time_dayofweek'] = df['mt_sent_time'].dt.weekday\n",
    "    # handle outliers with low support\n",
    "    df.loc[df.mt_count<10, 'scs_dn_rate']=np.nan\n",
    "    # handle outliers with extreme value\n",
    "    # In this case, if scs rate >0.2 or <0.001, it is wrong, and replaced by null\n",
    "    df.loc[(df.scs_dn_rate>0.2) | (df.scs_dn_rate<0.001), 'scs_dn_rate']=np.nan\n",
    "    fill_max = lambda x: x.replace(1, x[x<1].max())   # Write function that Fills outliers in subset\n",
    "    fill_min = lambda x: x.replace(0, x[x>0].min())\n",
    "    df.loc[:,'scs_dn_rate'] = df.groupby(['mt_category', 'mt_sent_time_hour', 'mt_sent_time_dayofweek', *args])['scs_dn_rate'].apply(fill_max) \n",
    "    df.loc[:,'scs_dn_rate'] = df.groupby(['mt_category', 'mt_sent_time_hour', 'mt_sent_time_dayofweek', *args])['scs_dn_rate'].apply(fill_min)\n",
    "    return df"
   ]
  },
  {
   "cell_type": "code",
   "execution_count": 13,
   "metadata": {},
   "outputs": [
    {
     "name": "stdout",
     "output_type": "stream",
     "text": [
      "null % of scs_dn_rate after preprocessing:\n",
      "basic:  17.24110796348757\n",
      "operator:  20.68071491615181\n",
      "shortcode:  29.685807150595885\n",
      "operator and shortcode:  35.717744338498214\n"
     ]
    }
   ],
   "source": [
    "print('null % of scs_dn_rate after preprocessing:')\n",
    "df = featureEngineering(raw)\n",
    "print('basic: ', df.scs_dn_rate.isna().sum()*100 / len(df))\n",
    "df = featureEngineering(raw, 'operator')\n",
    "print('operator: ', df.scs_dn_rate.isna().sum()*100 / len(df))\n",
    "df = featureEngineering(raw, 'shortcode')\n",
    "print('shortcode: ', df.scs_dn_rate.isna().sum()*100 / len(df))\n",
    "df = featureEngineering(raw, 'operator', 'shortcode')\n",
    "print('operator and shortcode: ', df.scs_dn_rate.isna().sum()*100 / len(df))"
   ]
  },
  {
   "cell_type": "code",
   "execution_count": 90,
   "metadata": {},
   "outputs": [
    {
     "data": {
      "text/plain": [
       "106190471"
      ]
     },
     "execution_count": 90,
     "metadata": {},
     "output_type": "execute_result"
    }
   ],
   "source": [
    "df = featureEngineering(raw)\n",
    "df.mt_count.sum()"
   ]
  },
  {
   "cell_type": "code",
   "execution_count": null,
   "metadata": {},
   "outputs": [],
   "source": [
    "df['mt_sent_time_date'] = df['mt_sent_time'].dt.date\n",
    "print(df.groupby('mt_sent_time_date').mt_count.sum().describe())\n",
    "df = df.drop(['mt_sent_time_date'], axis=1)"
   ]
  },
  {
   "cell_type": "code",
   "execution_count": null,
   "metadata": {},
   "outputs": [],
   "source": [
    "df[['mt_count', 'dn_count', 'scs_dn_rate']].describe()"
   ]
  },
  {
   "cell_type": "markdown",
   "metadata": {},
   "source": [
    "# Plot for mt_count"
   ]
  },
  {
   "cell_type": "markdown",
   "metadata": {},
   "source": [
    "### average"
   ]
  },
  {
   "cell_type": "code",
   "execution_count": null,
   "metadata": {},
   "outputs": [],
   "source": [
    "df.groupby(['mt_sent_time_hour', 'mt_category']).mt_count.mean().unstack().plot()"
   ]
  },
  {
   "cell_type": "code",
   "execution_count": null,
   "metadata": {},
   "outputs": [],
   "source": [
    "df.groupby(['mt_sent_time_dayofweek', 'mt_category']).mt_count.mean().unstack().plot()"
   ]
  },
  {
   "cell_type": "markdown",
   "metadata": {},
   "source": [
    "# Plot for scs_dn_rate"
   ]
  },
  {
   "cell_type": "markdown",
   "metadata": {},
   "source": [
    "### timeseries"
   ]
  },
  {
   "cell_type": "markdown",
   "metadata": {},
   "source": [
    "scs_dn_rate per hour"
   ]
  },
  {
   "cell_type": "code",
   "execution_count": null,
   "metadata": {},
   "outputs": [],
   "source": [
    "df.tail()"
   ]
  },
  {
   "cell_type": "code",
   "execution_count": 106,
   "metadata": {},
   "outputs": [],
   "source": [
    "def df_dayPeriod(raw, diff):\n",
    "    df = raw.copy()\n",
    "    df['mt_sent_time_date'] = df['mt_sent_time'].dt.date\n",
    "    df['mt_sent_time_date'] = df['mt_sent_time_date'].astype(str)\n",
    "    date = 'mt_sent_time_date'\n",
    "    lastdate = df.mt_sent_time[-1:].item()\n",
    "    start_date = str(lastdate - timedelta(days=diff))\n",
    "    end_date = str(lastdate)\n",
    "    mask = (df[date] > start_date) & (df[date] <= end_date)\n",
    "    df=df.loc[mask]\n",
    "    return df"
   ]
  },
  {
   "cell_type": "markdown",
   "metadata": {},
   "source": [
    "## plot for past 7 days success rate"
   ]
  },
  {
   "cell_type": "code",
   "execution_count": null,
   "metadata": {},
   "outputs": [],
   "source": [
    "plt.figure(figsize=(16,8))\n",
    "sns.lineplot(x=\"mt_sent_time\", y='scs_dn_rate', data=df_dayPeriod(df, 7))"
   ]
  },
  {
   "cell_type": "markdown",
   "metadata": {},
   "source": [
    "## plot for lastday success rate"
   ]
  },
  {
   "cell_type": "code",
   "execution_count": null,
   "metadata": {},
   "outputs": [],
   "source": [
    "plt.figure(figsize=(16,8))\n",
    "sns.lineplot(x=\"mt_sent_time\", y='scs_dn_rate', data=df_dayPeriod(df, 1))"
   ]
  },
  {
   "cell_type": "markdown",
   "metadata": {},
   "source": [
    "per hour"
   ]
  },
  {
   "cell_type": "code",
   "execution_count": null,
   "metadata": {},
   "outputs": [],
   "source": [
    "df.groupby(['mt_sent_time_hour', 'mt_category']).scs_dn_rate.mean().unstack().plot()"
   ]
  },
  {
   "cell_type": "markdown",
   "metadata": {},
   "source": [
    "## last week"
   ]
  },
  {
   "cell_type": "code",
   "execution_count": null,
   "metadata": {},
   "outputs": [],
   "source": [
    "df_dayPeriod(df, 7).groupby(['mt_sent_time_hour', 'mt_category']).scs_dn_rate.mean().unstack().plot()"
   ]
  },
  {
   "cell_type": "markdown",
   "metadata": {},
   "source": [
    "per weekday"
   ]
  },
  {
   "cell_type": "code",
   "execution_count": null,
   "metadata": {},
   "outputs": [],
   "source": [
    "df.groupby(['mt_sent_time_dayofweek', 'mt_category']).scs_dn_rate.mean().unstack().plot()"
   ]
  },
  {
   "cell_type": "markdown",
   "metadata": {},
   "source": [
    "## for last week"
   ]
  },
  {
   "cell_type": "code",
   "execution_count": null,
   "metadata": {},
   "outputs": [],
   "source": [
    "df_dayPeriod(df, 7).groupby(['mt_sent_time_dayofweek', 'mt_category']).scs_dn_rate.mean().unstack().plot()"
   ]
  },
  {
   "cell_type": "markdown",
   "metadata": {},
   "source": [
    "## Plot for specific feature"
   ]
  },
  {
   "cell_type": "code",
   "execution_count": 133,
   "metadata": {},
   "outputs": [],
   "source": [
    "def feature_plot(df, *args):\n",
    "    fig1, axes = plt.subplots(nrows=1, ncols=2, figsize=(15,5))\n",
    "    fig1.suptitle('schedule')\n",
    "    axes[0].set_ylabel('mt_count')\n",
    "    axes[1].set_ylabel('scs_dn_rate')\n",
    "    df[df['mt_category']=='schedule'].groupby(['mt_sent_time_hour', *args]).mt_count.mean().unstack().fillna(0).plot(ax=axes[0])\n",
    "    df[df['mt_category']=='schedule'].groupby(['mt_sent_time_hour', *args]).scs_dn_rate.mean().unstack().plot(ax=axes[1])\n",
    "    fig2, axes = plt.subplots(nrows=1, ncols=2, figsize=(15,5))\n",
    "    fig2.suptitle('retry1')\n",
    "    axes[0].set_ylabel('mt_count')\n",
    "    axes[1].set_ylabel('scs_dn_rate')\n",
    "    df[df['mt_category']=='retry1'].groupby(['mt_sent_time_hour', *args]).mt_count.mean().unstack().fillna(0).plot(ax=axes[0])\n",
    "    df[df['mt_category']=='retry1'].groupby(['mt_sent_time_hour', *args]).scs_dn_rate.mean().unstack().plot(ax=axes[1])"
   ]
  },
  {
   "cell_type": "markdown",
   "metadata": {},
   "source": [
    "## Plot for day of week"
   ]
  },
  {
   "cell_type": "code",
   "execution_count": null,
   "metadata": {},
   "outputs": [],
   "source": [
    "feature_plot(df, 'mt_sent_time_dayofweek')"
   ]
  },
  {
   "cell_type": "markdown",
   "metadata": {},
   "source": [
    "## for last week"
   ]
  },
  {
   "cell_type": "code",
   "execution_count": null,
   "metadata": {},
   "outputs": [],
   "source": [
    "feature_plot(df_dayPeriod(df,7), 'mt_sent_time_dayofweek')"
   ]
  },
  {
   "cell_type": "markdown",
   "metadata": {},
   "source": [
    "## Plot for operator"
   ]
  },
  {
   "cell_type": "code",
   "execution_count": 135,
   "metadata": {},
   "outputs": [],
   "source": [
    "df = featureEngineering(raw, 'operator')"
   ]
  },
  {
   "cell_type": "code",
   "execution_count": null,
   "metadata": {},
   "outputs": [],
   "source": [
    "feature_plot(df, 'operator')"
   ]
  },
  {
   "cell_type": "markdown",
   "metadata": {},
   "source": [
    "## for last week"
   ]
  },
  {
   "cell_type": "code",
   "execution_count": null,
   "metadata": {},
   "outputs": [],
   "source": [
    "feature_plot(df_dayPeriod(df,7), 'operator')"
   ]
  },
  {
   "cell_type": "markdown",
   "metadata": {},
   "source": [
    "## plot for shortcode"
   ]
  },
  {
   "cell_type": "code",
   "execution_count": 138,
   "metadata": {},
   "outputs": [],
   "source": [
    "df = featureEngineering(raw, 'shortcode')"
   ]
  },
  {
   "cell_type": "code",
   "execution_count": null,
   "metadata": {},
   "outputs": [],
   "source": [
    "feature_plot(df, 'shortcode')"
   ]
  },
  {
   "cell_type": "markdown",
   "metadata": {},
   "source": [
    "## for last week"
   ]
  },
  {
   "cell_type": "code",
   "execution_count": null,
   "metadata": {},
   "outputs": [],
   "source": [
    "feature_plot(df_dayPeriod(df,7), 'shortcode')"
   ]
  },
  {
   "cell_type": "markdown",
   "metadata": {},
   "source": [
    "## Response feature engineering"
   ]
  },
  {
   "cell_type": "code",
   "execution_count": null,
   "metadata": {},
   "outputs": [],
   "source": [
    "df.scs_dn_rate.value_counts()"
   ]
  },
  {
   "cell_type": "markdown",
   "metadata": {},
   "source": [
    "## Creating XGBoost for feature importance"
   ]
  },
  {
   "cell_type": "code",
   "execution_count": 86,
   "metadata": {},
   "outputs": [],
   "source": [
    "def create_features(df):\n",
    "\n",
    "    # Only these 2 categories are needed\n",
    "    mt_cat_list = ['schedule', 'retry1']\n",
    "    df = df[df.mt_category.isin(mt_cat_list)]\n",
    "    \n",
    "    # Convert date/time from string to datetime format\n",
    "    df.loc[:,'mt_sent_time'] = pd.to_datetime(df['mt_sent_time'], errors='coerce')\n",
    "    df = df.groupby(['mt_sent_time', 'mt_category', 'operator', 'shortcode']).agg({'mt_count':'sum', 'dn_count':'sum'}).reset_index()\n",
    "    \n",
    "    # create time series features\n",
    "    df['scs_dn_rate'] = df.dn_count / df.mt_count\n",
    "    df['date'] = df.mt_sent_time\n",
    "    df['hour'] = df['date'].dt.hour\n",
    "    df['dayofweek'] = df['date'].dt.dayofweek\n",
    "    df['quarter'] = df['date'].dt.quarter\n",
    "    df['month'] = df['date'].dt.month\n",
    "    df['year'] = df['date'].dt.year\n",
    "    df['dayofyear'] = df['date'].dt.dayofyear\n",
    "    df['dayofmonth'] = df['date'].dt.day\n",
    "    df['weekofyear'] = df['date'].dt.weekofyear\n",
    "    \n",
    "    # handle outliers with low support\n",
    "    df.loc[df.mt_count<5, 'scs_dn_rate']=np.nan\n",
    "    # handle outliers with extreme value\n",
    "    fill_max = lambda x: x.replace(1, x[x<1].max())   # Write function that Fills outliers in subset\n",
    "    fill_min = lambda x: x.replace(0, x[x>0].min())\n",
    "    fill_nan = lambda x: x.fillna(x.median())\n",
    "    df.loc[:,'scs_dn_rate'] = df.groupby(['hour', 'dayofweek'])['scs_dn_rate'].apply(fill_max)  # Apply function to grouped column \n",
    "    df.loc[:,'scs_dn_rate'] = df.groupby(['hour', 'dayofweek'])['scs_dn_rate'].apply(fill_min)  # Apply function to grouped column\n",
    "    df.loc[:,'scs_dn_rate'] = df.groupby(['hour', 'dayofweek'])['scs_dn_rate'].apply(fill_nan)  # Apply function to grouped column \n",
    "    \n",
    "    # convert categorical data\n",
    "    df = pd.get_dummies(df)\n",
    "\n",
    "    X = df.drop(['scs_dn_rate', 'date', 'mt_sent_time', 'mt_count', 'dn_count'], axis=1)\n",
    "    y = df['scs_dn_rate']\n",
    "    return X, y"
   ]
  },
  {
   "cell_type": "code",
   "execution_count": 87,
   "metadata": {},
   "outputs": [],
   "source": [
    "%%capture\n",
    "%pip install xgboost"
   ]
  },
  {
   "cell_type": "code",
   "execution_count": null,
   "metadata": {},
   "outputs": [],
   "source": [
    "import xgboost as xgb\n",
    "X_train, y_train = create_features(raw)\n",
    "reg = xgb.XGBRegressor(n_estimators=1000)\n",
    "reg.fit(X_train, y_train,\n",
    "        eval_set=[(X_train, y_train)],\n",
    "        early_stopping_rounds=50, #stop if 50 consequent rounds without decrease of error\n",
    "        verbose=False)"
   ]
  },
  {
   "cell_type": "code",
   "execution_count": null,
   "metadata": {},
   "outputs": [],
   "source": [
    "xgb.plot_importance(reg, height=0.6)"
   ]
  },
  {
   "cell_type": "code",
   "execution_count": null,
   "metadata": {},
   "outputs": [],
   "source": []
  }
 ],
 "metadata": {
  "kernelspec": {
   "display_name": "Python [conda env:root] *",
   "language": "python",
   "name": "conda-root-py"
  },
  "language_info": {
   "codemirror_mode": {
    "name": "ipython",
    "version": 3
   },
   "file_extension": ".py",
   "mimetype": "text/x-python",
   "name": "python",
   "nbconvert_exporter": "python",
   "pygments_lexer": "ipython3",
   "version": "3.8.5"
  }
 },
 "nbformat": 4,
 "nbformat_minor": 4
}
