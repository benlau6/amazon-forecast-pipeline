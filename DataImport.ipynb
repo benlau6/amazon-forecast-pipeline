{
 "cells": [
  {
   "cell_type": "markdown",
   "metadata": {},
   "source": [
    "## Setup<a class=\"anchor\" id=\"setup\"></a>"
   ]
  },
  {
   "cell_type": "code",
   "execution_count": null,
   "metadata": {},
   "outputs": [],
   "source": [
    "%%capture\n",
    "%pip install awswrangler"
   ]
  },
  {
   "cell_type": "code",
   "execution_count": null,
   "metadata": {},
   "outputs": [],
   "source": [
    "import os\n",
    "import time\n",
    "import boto3\n",
    "import util\n",
    "import sagemaker\n",
    "import awswrangler as wr\n",
    "import pandas as pd\n",
    "import numpy as np"
   ]
  },
  {
   "cell_type": "code",
   "execution_count": null,
   "metadata": {},
   "outputs": [],
   "source": [
    "def loadRaw():\n",
    "    bucket = ''\n",
    "    prefix = ''\n",
    "    path = f's3://{bucket}/{prefix}'\n",
    "    suffix = '.gz.parquet'\n",
    "    cols = ['mt_sent_time', 'mt_category', 'operator', 'shortcode', 'mt_count', 'dn_count']\n",
    "    df = wr.s3.read_parquet(path=path, path_suffix=suffix, columns=cols, dataset=True)\n",
    "    return df"
   ]
  },
  {
   "cell_type": "code",
   "execution_count": null,
   "metadata": {},
   "outputs": [],
   "source": [
    "def featureEngineering(raw, *args):\n",
    "    # args = groupby list\n",
    "    \n",
    "    df = raw.copy()\n",
    "    # Only these 2 categories are needed)\n",
    "    mt_cat_list = ['schedule', 'retry1']\n",
    "    df = df[df.mt_category.isin(mt_cat_list)]\n",
    "    \n",
    "    # Convert date/time from string to datetime format\n",
    "    df['mt_sent_time'] = pd.to_datetime(df['mt_sent_time'], errors='coerce').dt.floor('H')\n",
    "    \n",
    "    # Group entries\n",
    "    df = df.groupby(['mt_category', 'mt_sent_time', *args]).agg({'mt_count':'sum', 'dn_count':'sum'}).reset_index()\n",
    "    # add scs_date\n",
    "    df['scs_dn_rate'] = df.dn_count / df.mt_count\n",
    "    \n",
    "    # add columns describing different time frame\n",
    "    df['mt_sent_time_hour'] = df['mt_sent_time'].dt.hour\n",
    "    df['mt_sent_time_dayofweek'] = df['mt_sent_time'].dt.weekday\n",
    "    # handle outliers with low support\n",
    "    df.loc[df.mt_count<10, 'scs_dn_rate']=np.nan\n",
    "    # handle outliers with extreme value\n",
    "    df.loc[(df.scs_dn_rate>0.2) | (df.scs_dn_rate<0.001), 'scs_dn_rate']=np.nan\n",
    "    fill_max = lambda x: x.replace(1, x[x<1].max())   # Write function that Fills outliers in subset\n",
    "    fill_min = lambda x: x.replace(0, x[x>0].min())\n",
    "    df.loc[:,'scs_dn_rate'] = df.groupby(['mt_category', 'mt_sent_time_hour', 'mt_sent_time_dayofweek', *args])['scs_dn_rate'].apply(fill_max) \n",
    "    df.loc[:,'scs_dn_rate'] = df.groupby(['mt_category', 'mt_sent_time_hour', 'mt_sent_time_dayofweek', *args])['scs_dn_rate'].apply(fill_min)\n",
    "    return df"
   ]
  },
  {
   "cell_type": "code",
   "execution_count": null,
   "metadata": {},
   "outputs": [],
   "source": [
    "def outputCSV(df, category):\n",
    "    bucket_name = sagemaker.Session().default_bucket()\n",
    "    region = sagemaker.Session().boto_region_name\n",
    "    session = boto3.Session(region_name=region) \n",
    "    s3 = session.client('s3')\n",
    "\n",
    "    df = df[df.mt_category == category][['mt_sent_time', 'mt_category', 'scs_dn_rate']]\n",
    "    \n",
    "    outdir = './data'\n",
    "    if not os.path.exists(outdir):\n",
    "        os.mkdir(outdir)\n",
    "    \n",
    "    csv_name = 'data/'+category+'.csv'\n",
    "    df.to_csv(csv_name, header=False, index=False)\n",
    "    \n",
    "    key='puretech_data/'+category+'.csv'\n",
    "    s3.upload_file(Filename=csv_name, Bucket=bucket_name, Key=key)"
   ]
  },
  {
   "cell_type": "code",
   "execution_count": null,
   "metadata": {},
   "outputs": [],
   "source": [
    "tStart = time.time()"
   ]
  },
  {
   "cell_type": "code",
   "execution_count": null,
   "metadata": {},
   "outputs": [],
   "source": [
    "raw = loadRaw()\n",
    "df = featureEngineering(raw)\n",
    "outputCSV(df, 'schedule')\n",
    "outputCSV(df, 'retry1')"
   ]
  },
  {
   "cell_type": "code",
   "execution_count": null,
   "metadata": {},
   "outputs": [],
   "source": [
    "tEnd = time.time()\n",
    "print (\"Spent %f minutes\" % ((tEnd - tStart)/60))"
   ]
  },
  {
   "cell_type": "code",
   "execution_count": null,
   "metadata": {},
   "outputs": [],
   "source": [
    "raw.mt_sent_time"
   ]
  }
 ],
 "metadata": {
  "kernelspec": {
   "display_name": "Python [conda env:root] *",
   "language": "python",
   "name": "conda-root-py"
  },
  "language_info": {
   "codemirror_mode": {
    "name": "ipython",
    "version": 3
   },
   "file_extension": ".py",
   "mimetype": "text/x-python",
   "name": "python",
   "nbconvert_exporter": "python",
   "pygments_lexer": "ipython3",
   "version": "3.8.5"
  }
 },
 "nbformat": 4,
 "nbformat_minor": 4
}
